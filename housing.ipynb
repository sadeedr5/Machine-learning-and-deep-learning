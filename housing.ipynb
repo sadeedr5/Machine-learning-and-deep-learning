{
  "nbformat": 4,
  "nbformat_minor": 0,
  "metadata": {
    "colab": {
      "provenance": []
    },
    "kernelspec": {
      "name": "python3",
      "display_name": "Python 3"
    },
    "language_info": {
      "name": "python"
    }
  },
  "cells": [
    {
      "cell_type": "code",
      "execution_count": 1,
      "metadata": {
        "id": "Hk7R9aYrDlMS"
      },
      "outputs": [],
      "source": [
        "import pandas as pd\n",
        "import numpy as np\n",
        "import matplotlib.pyplot as plt\n",
        "import seaborn as sns\n",
        "\n",
        "from sklearn.model_selection import train_test_split\n",
        "from sklearn.linear_model import LinearRegression\n",
        "from sklearn.tree import DecisionTreeRegressor\n",
        "from sklearn.ensemble import RandomForestRegressor, GradientBoostingRegressor\n",
        "from sklearn.metrics import mean_absolute_error, mean_squared_error, r2_score\n",
        "from sklearn.preprocessing import StandardScaler\n",
        "from sklearn.model_selection import GridSearchCV"
      ]
    },
    {
      "cell_type": "code",
      "source": [
        "import pandas as pd\n",
        "\n",
        "# File path for the CSV\n",
        "file_path = '/housing_data.csv'\n",
        "\n",
        "# Load the CSV into a DataFrame\n",
        "df = pd.read_csv(file_path)  # Correct syntax\n",
        "\n",
        "# Display the first few rows of the dataset\n",
        "print(df.head())\n"
      ],
      "metadata": {
        "colab": {
          "base_uri": "https://localhost:8080/"
        },
        "id": "xaNItnlZHYmi",
        "outputId": "83defe46-b14a-43be-b56f-af742aaa299b"
      },
      "execution_count": 12,
      "outputs": [
        {
          "output_type": "stream",
          "name": "stdout",
          "text": [
            "      price  area  bedrooms  bathrooms  stories mainroad guestroom basement  \\\n",
            "0  13300000  7420         4          2        3      yes        no       no   \n",
            "1  12250000  8960         4          4        4      yes        no       no   \n",
            "2  12250000  9960         3          2        2      yes        no      yes   \n",
            "3  12215000  7500         4          2        2      yes        no      yes   \n",
            "4  11410000  7420         4          1        2      yes       yes      yes   \n",
            "\n",
            "  hotwaterheating airconditioning  parking prefarea furnishingstatus  \n",
            "0              no             yes        2      yes        furnished  \n",
            "1              no             yes        3       no        furnished  \n",
            "2              no              no        2      yes   semi-furnished  \n",
            "3              no             yes        3      yes        furnished  \n",
            "4              no             yes        2       no        furnished  \n"
          ]
        }
      ]
    },
    {
      "cell_type": "code",
      "source": [
        "# Split data into training and test sets\n",
        "X_train, X_test, y_train, y_test = train_test_split(X, y, test_size=0.2, random_state=42)"
      ],
      "metadata": {
        "id": "JN4Wd9p-IvOF"
      },
      "execution_count": 18,
      "outputs": []
    },
    {
      "cell_type": "code",
      "source": [
        "# Check for categorical columns\n",
        "categorical_columns = X.select_dtypes(include=['object']).columns\n",
        "print(\"Categorical columns:\", categorical_columns)\n"
      ],
      "metadata": {
        "colab": {
          "base_uri": "https://localhost:8080/"
        },
        "id": "bBc1a81KJxYX",
        "outputId": "6b4f43f8-58b2-4ccf-bfa3-d37d02a473ba"
      },
      "execution_count": 23,
      "outputs": [
        {
          "output_type": "stream",
          "name": "stdout",
          "text": [
            "Categorical columns: Index(['mainroad', 'guestroom', 'basement', 'hotwaterheating',\n",
            "       'airconditioning', 'prefarea', 'furnishingstatus'],\n",
            "      dtype='object')\n"
          ]
        }
      ]
    },
    {
      "cell_type": "code",
      "source": [
        "# Check for categorical columns before encoding\n",
        "categorical_columns = X.select_dtypes(include=['object']).columns\n",
        "print(\"Categorical columns before encoding:\", categorical_columns)\n",
        "\n",
        "# Apply one-hot encoding to categorical columns\n",
        "X = pd.get_dummies(X, drop_first=True)\n",
        "\n",
        "# Check for remaining non-numeric columns\n",
        "non_numeric_columns = X.select_dtypes(include=['object']).columns\n",
        "print(\"Remaining non-numeric columns:\", non_numeric_columns)\n",
        "\n",
        "# Ensure all columns are numeric\n",
        "X = X.apply(pd.to_numeric, errors='coerce')  # Convert all to numeric (if any issue)\n",
        "\n",
        "# Check if there are any NaN values\n",
        "print(X.isnull().sum())\n",
        "\n",
        "# Fill NaN values if any remain\n",
        "X.fillna(X.mean(), inplace=True)\n",
        "\n",
        "# Check the types and shape of the final dataset\n",
        "print(X.dtypes)\n",
        "print(X.shape)\n"
      ],
      "metadata": {
        "colab": {
          "base_uri": "https://localhost:8080/"
        },
        "id": "UeFXXxJqNFtS",
        "outputId": "baabaedd-1c2c-4e2a-9a88-4ef812feba48"
      },
      "execution_count": 26,
      "outputs": [
        {
          "output_type": "stream",
          "name": "stdout",
          "text": [
            "Categorical columns before encoding: Index(['mainroad', 'guestroom', 'basement', 'hotwaterheating',\n",
            "       'airconditioning', 'prefarea', 'furnishingstatus'],\n",
            "      dtype='object')\n",
            "Remaining non-numeric columns: Index([], dtype='object')\n",
            "area                               0\n",
            "bedrooms                           0\n",
            "bathrooms                          0\n",
            "stories                            0\n",
            "parking                            0\n",
            "mainroad_yes                       0\n",
            "guestroom_yes                      0\n",
            "basement_yes                       0\n",
            "hotwaterheating_yes                0\n",
            "airconditioning_yes                0\n",
            "prefarea_yes                       0\n",
            "furnishingstatus_semi-furnished    0\n",
            "furnishingstatus_unfurnished       0\n",
            "dtype: int64\n",
            "area                               int64\n",
            "bedrooms                           int64\n",
            "bathrooms                          int64\n",
            "stories                            int64\n",
            "parking                            int64\n",
            "mainroad_yes                        bool\n",
            "guestroom_yes                       bool\n",
            "basement_yes                        bool\n",
            "hotwaterheating_yes                 bool\n",
            "airconditioning_yes                 bool\n",
            "prefarea_yes                        bool\n",
            "furnishingstatus_semi-furnished     bool\n",
            "furnishingstatus_unfurnished        bool\n",
            "dtype: object\n",
            "(545, 13)\n"
          ]
        }
      ]
    },
    {
      "cell_type": "code",
      "source": [
        "# Check for any non-numeric columns in the training data\n",
        "non_numeric_columns = X_train.select_dtypes(include=['object']).columns\n",
        "print(\"Non-numeric columns in X_train:\", non_numeric_columns)\n",
        "\n",
        "# Check for any non-numeric columns in the test data\n",
        "non_numeric_columns_test = X_test.select_dtypes(include=['object']).columns\n",
        "print(\"Non-numeric columns in X_test:\", non_numeric_columns_test)\n"
      ],
      "metadata": {
        "colab": {
          "base_uri": "https://localhost:8080/"
        },
        "id": "DqjI51VfNbR2",
        "outputId": "63608778-b06f-4d66-be11-b457e98ae7f5"
      },
      "execution_count": 28,
      "outputs": [
        {
          "output_type": "stream",
          "name": "stdout",
          "text": [
            "Non-numeric columns in X_train: Index(['mainroad', 'guestroom', 'basement', 'hotwaterheating',\n",
            "       'airconditioning', 'prefarea', 'furnishingstatus'],\n",
            "      dtype='object')\n",
            "Non-numeric columns in X_test: Index(['mainroad', 'guestroom', 'basement', 'hotwaterheating',\n",
            "       'airconditioning', 'prefarea', 'furnishingstatus'],\n",
            "      dtype='object')\n"
          ]
        }
      ]
    },
    {
      "cell_type": "code",
      "source": [
        "# Apply one-hot encoding to all categorical columns in both training and testing sets\n",
        "X_train = pd.get_dummies(X_train, drop_first=True)\n",
        "X_test = pd.get_dummies(X_test, drop_first=True)\n",
        "\n",
        "# Make sure both train and test data have the same columns\n",
        "X_train, X_test = X_train.align(X_test, join='left', axis=1)\n",
        "\n",
        "# Check if there are still any non-numeric values\n",
        "non_numeric_columns_train = X_train.select_dtypes(include=['object']).columns\n",
        "non_numeric_columns_test = X_test.select_dtypes(include=['object']).columns\n",
        "print(f\"Non-numeric columns in training data: {non_numeric_columns_train}\")\n",
        "print(f\"Non-numeric columns in test data: {non_numeric_columns_test}\")\n"
      ],
      "metadata": {
        "colab": {
          "base_uri": "https://localhost:8080/"
        },
        "id": "NcaWCRiENcLG",
        "outputId": "3f62c4ae-24ee-47a6-fa6c-8e19d9982b37"
      },
      "execution_count": 29,
      "outputs": [
        {
          "output_type": "stream",
          "name": "stdout",
          "text": [
            "Non-numeric columns in training data: Index([], dtype='object')\n",
            "Non-numeric columns in test data: Index([], dtype='object')\n"
          ]
        }
      ]
    },
    {
      "cell_type": "code",
      "source": [
        "# Convert all non-numeric columns to numeric if necessary\n",
        "X_train = X_train.apply(pd.to_numeric, errors='coerce')\n",
        "X_test = X_test.apply(pd.to_numeric, errors='coerce')\n",
        "\n",
        "# Fill any NaN values that might appear due to conversion\n",
        "X_train.fillna(X_train.mean(), inplace=True)\n",
        "X_test.fillna(X_test.mean(), inplace=True)\n"
      ],
      "metadata": {
        "id": "ywyC3QFPNhpR"
      },
      "execution_count": 30,
      "outputs": []
    },
    {
      "cell_type": "code",
      "source": [
        "# Check model fitting\n",
        "for model_name, model in models.items():\n",
        "    model.fit(X_train, y_train)\n",
        "    y_pred = model.predict(X_test)\n",
        "\n",
        "    # Calculate metrics\n",
        "    mae = mean_absolute_error(y_test, y_pred)\n",
        "    mse = mean_squared_error(y_test, y_pred)\n",
        "    rmse = np.sqrt(mse)\n",
        "    r2 = r2_score(y_test, y_pred)\n",
        "\n",
        "    print(f\"{model_name}: MAE={mae}, RMSE={rmse}, MSE={mse}, R2={r2}\")\n"
      ],
      "metadata": {
        "colab": {
          "base_uri": "https://localhost:8080/"
        },
        "id": "Bo2L0InHNiqR",
        "outputId": "6d589a2d-ab7e-4a25-dfd1-59ab42ffaa70"
      },
      "execution_count": 31,
      "outputs": [
        {
          "output_type": "stream",
          "name": "stdout",
          "text": [
            "Linear Regression: MAE=970043.4039201636, RMSE=1324506.9600914386, MSE=1754318687330.6638, R2=0.6529242642153184\n",
            "Decision Tree: MAE=1250206.4220183487, RMSE=1711671.5078885409, MSE=2929819350917.431, R2=0.420362323972554\n",
            "Random Forest: MAE=1032306.9177370031, RMSE=1414055.5673286545, MSE=1999553147493.1626, R2=0.6044068931610502\n",
            "Gradient Boosting: MAE=961927.7803751583, RMSE=1300223.4941557832, MSE=1690581134754.674, R2=0.665534149817738\n"
          ]
        }
      ]
    },
    {
      "cell_type": "code",
      "source": [
        "#  hyperparameter tuning for Random Forest\n",
        "param_grid = {\n",
        "    'n_estimators': [100, 200, 300],\n",
        "    'max_depth': [10, 20, None],\n",
        "    'min_samples_split': [2, 5, 10]\n",
        "}\n",
        "\n",
        "# Grid Search for Random Forest\n",
        "grid_search = GridSearchCV(RandomForestRegressor(), param_grid, cv=3)\n",
        "grid_search.fit(X_train, y_train)\n",
        "\n",
        "best_rf_model = grid_search.best_estimator_\n",
        "y_pred_rf = best_rf_model.predict(X_test)\n",
        "\n",
        "# Evaluate best model\n",
        "mae_rf = mean_absolute_error(y_test, y_pred_rf)\n",
        "rmse_rf = np.sqrt(mean_squared_error(y_test, y_pred_rf))\n",
        "r2_rf = r2_score(y_test, y_pred_rf)\n",
        "\n",
        "print(f\"Random Forest (Tuned): MAE={mae_rf}, RMSE={rmse_rf}, R2={r2_rf}\")"
      ],
      "metadata": {
        "colab": {
          "base_uri": "https://localhost:8080/"
        },
        "id": "N27qQd0DNlP7",
        "outputId": "d0aa6e24-e728-4169-d207-71f3fd8b1efc"
      },
      "execution_count": 32,
      "outputs": [
        {
          "output_type": "stream",
          "name": "stdout",
          "text": [
            "Random Forest (Tuned): MAE=1031973.9044923742, RMSE=1411056.7222739237, R2=0.6060830146918244\n"
          ]
        }
      ]
    }
  ]
}