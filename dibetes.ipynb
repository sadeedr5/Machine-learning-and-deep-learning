{
  "nbformat": 4,
  "nbformat_minor": 0,
  "metadata": {
    "colab": {
      "provenance": []
    },
    "kernelspec": {
      "name": "python3",
      "display_name": "Python 3"
    },
    "language_info": {
      "name": "python"
    }
  },
  "cells": [
    {
      "cell_type": "code",
      "execution_count": 1,
      "metadata": {
        "id": "TSoeHyIZPIbI"
      },
      "outputs": [],
      "source": [
        "import pandas as pd\n",
        "import numpy as np\n",
        "from sklearn.model_selection import train_test_split\n",
        "from sklearn.preprocessing import StandardScaler, LabelEncoder\n",
        "from sklearn.ensemble import RandomForestClassifier\n",
        "from sklearn.metrics import accuracy_score, classification_report, confusion_matrix"
      ]
    },
    {
      "cell_type": "code",
      "source": [
        "import pandas as pd\n",
        "\n",
        "# File path for the CSV\n",
        "file_path = '/content/diabetes_two (1).csv'\n",
        "\n",
        "# Load the CSV into a DataFrame\n",
        "df = pd.read_csv(file_path)  # Correct syntax\n",
        "\n",
        "# Display the first few rows of the dataset\n",
        "print(df.head())\n"
      ],
      "metadata": {
        "colab": {
          "base_uri": "https://localhost:8080/"
        },
        "id": "xaNItnlZHYmi",
        "outputId": "56582cb5-26d0-496d-fcc3-f2ad60b70ab6"
      },
      "execution_count": 2,
      "outputs": [
        {
          "output_type": "stream",
          "name": "stdout",
          "text": [
            "     Age Gender Polyuria Polydipsia sudden weight loss weakness Polyphagia  \\\n",
            "0   40.0   Male       No        Yes                 No      Yes         No   \n",
            "1   58.0   Male       No         No                 No      Yes         No   \n",
            "2    NaN   Male      Yes         No                 No      Yes        Yes   \n",
            "3   45.0   Male       No         No                Yes      Yes        Yes   \n",
            "4  600.0   Male      Yes        Yes                Yes      Yes        Yes   \n",
            "\n",
            "  Genital thrush visual blurring Itching Irritability delayed healing  \\\n",
            "0             No              No     Yes           No             Yes   \n",
            "1             No             Yes      No           No              No   \n",
            "2             No              No     Yes           No             Yes   \n",
            "3            Yes              No     Yes           No             Yes   \n",
            "4             No             Yes     Yes          Yes             Yes   \n",
            "\n",
            "  partial paresis muscle stiffness Alopecia Obesity     class  \n",
            "0              No              Yes      Yes     Yes  Positive  \n",
            "1             Yes               No      Yes      No  Positive  \n",
            "2              No              Yes      Yes      No  Positive  \n",
            "3              No               No       No      No  Positive  \n",
            "4             Yes              Yes      Yes     Yes  Positive  \n"
          ]
        }
      ]
    },
    {
      "cell_type": "code",
      "source": [
        "# Load the CSV into a DataFrame\n",
        "df = pd.read_csv(file_path)\n",
        "\n",
        "# Check for missing values\n",
        "print(df.isnull().sum())"
      ],
      "metadata": {
        "colab": {
          "base_uri": "https://localhost:8080/"
        },
        "id": "VdWrVYJXQSlJ",
        "outputId": "7fa5f851-f772-41a9-b58e-37c4910cecff"
      },
      "execution_count": 7,
      "outputs": [
        {
          "output_type": "stream",
          "name": "stdout",
          "text": [
            "Age                   1\n",
            "Gender                1\n",
            "Polyuria              0\n",
            "Polydipsia            0\n",
            "sudden weight loss    0\n",
            "weakness              1\n",
            "Polyphagia            0\n",
            "Genital thrush        0\n",
            "visual blurring       0\n",
            "Itching               0\n",
            "Irritability          0\n",
            "delayed healing       0\n",
            "partial paresis       0\n",
            "muscle stiffness      0\n",
            "Alopecia              0\n",
            "Obesity               0\n",
            "class                 0\n",
            "dtype: int64\n"
          ]
        }
      ]
    },
    {
      "cell_type": "code",
      "source": [
        "# Fill missing values for numeric columns with their mean\n",
        "numeric_columns = df.select_dtypes(include=['number']).columns\n",
        "df[numeric_columns] = df[numeric_columns].fillna(df[numeric_columns].mean())\n",
        "\n",
        "# Fill missing values for categorical columns with the most frequent value\n",
        "categorical_columns = df.select_dtypes(include=['object']).columns\n",
        "for col in categorical_columns:\n",
        "    df[col] = df[col].fillna(df[col].mode()[0])  # Use the most frequent value\n",
        "\n",
        "# Check column names to ensure you are using the correct name for the target column\n",
        "print(df.columns)\n",
        "\n",
        "# Replace 'target_column' with the actual column name for your target variable\n",
        "# Assuming your target column is named 'class' based on the global variables\n",
        "target_column_name = 'class'  # Replace 'class' with the correct target column if different\n",
        "\n",
        "# Encode categorical target variable if necessary (e.g., Label encoding)\n",
        "label_encoder = LabelEncoder()\n",
        "# Create the 'target' column by encoding the original target column\n",
        "df['target'] = label_encoder.fit_transform(df[target_column_name])\n",
        "\n",
        "# Feature scaling - Apply only to numerical features\n",
        "# Select numerical features for scaling\n",
        "numerical_features = df.select_dtypes(include=['number']).drop('target', axis=1).columns\n",
        "# Apply StandardScaler to numerical features only\n",
        "scaler = StandardScaler()\n",
        "df[numerical_features] = scaler.fit_transform(df[numerical_features])\n",
        "\n",
        "# Split data into features and target\n",
        "X = df.drop('target', axis=1)  # Features\n",
        "y = df['target']  # Target variable"
      ],
      "metadata": {
        "colab": {
          "base_uri": "https://localhost:8080/"
        },
        "id": "ZHL4pet6R1lr",
        "outputId": "630ae718-4832-403b-a9f8-d1aba9c27eba"
      },
      "execution_count": 15,
      "outputs": [
        {
          "output_type": "stream",
          "name": "stdout",
          "text": [
            "Index(['Age', 'Gender', 'Polyuria', 'Polydipsia', 'sudden weight loss',\n",
            "       'weakness', 'Polyphagia', 'Genital thrush', 'visual blurring',\n",
            "       'Itching', 'Irritability', 'delayed healing', 'partial paresis',\n",
            "       'muscle stiffness', 'Alopecia', 'Obesity', 'class', 'target'],\n",
            "      dtype='object')\n"
          ]
        }
      ]
    },
    {
      "cell_type": "code",
      "source": [
        "# Split Data into Training and Test Sets"
      ],
      "metadata": {
        "id": "K_EB-UekSDLC"
      },
      "execution_count": null,
      "outputs": []
    },
    {
      "cell_type": "code",
      "source": [
        "X_train, X_test, y_train, y_test = train_test_split(X, y, test_size=0.2, random_state=42)"
      ],
      "metadata": {
        "id": "thvqJfC9SANx"
      },
      "execution_count": 17,
      "outputs": []
    },
    {
      "cell_type": "code",
      "source": [
        "# Step 1: Handle missing values\n",
        "#X.fillna(X.mean(), inplace=True)  # For numerical columns\n",
        "\n",
        "# Step 2: Encode categorical columns\n",
        "categorical_columns = X.select_dtypes(include=['object']).columns  # Get all categorical columns\n",
        "\n",
        "# Apply Label Encoding to categorical columns\n",
        "label_encoder = LabelEncoder()\n",
        "for col in categorical_columns:\n",
        "    X[col] = label_encoder.fit_transform(X[col])  # Apply encoding\n",
        "\n",
        "# Alternatively, use One-Hot Encoding if needed:\n",
        "# X = pd.get_dummies(X, drop_first=True)  # Use this for multiple categorical values\n",
        "\n",
        "# Step 3: Split the data into training and test sets\n",
        "X_train, X_test, y_train, y_test = train_test_split(X, y, test_size=0.2, random_state=42)\n",
        "\n",
        "# Step 4: Train the Random Forest Classifier\n",
        "model = RandomForestClassifier(random_state=42)\n",
        "model.fit(X_train, y_train)\n",
        "\n",
        "# Step 5: Make predictions\n",
        "y_pred = model.predict(X_test)\n",
        "\n",
        "# Step 6: Evaluate the model\n",
        "accuracy = accuracy_score(y_test, y_pred)\n",
        "print(f\"Accuracy: {accuracy}\")\n",
        "print(\"Classification Report:\\n\", classification_report(y_test, y_pred))\n",
        "print(\"Confusion Matrix:\\n\", confusion_matrix(y_test, y_pred))"
      ],
      "metadata": {
        "colab": {
          "base_uri": "https://localhost:8080/"
        },
        "id": "tN-M9F7zSURj",
        "outputId": "0ab431e5-7055-499b-f1bc-e8c39e58690a"
      },
      "execution_count": 22,
      "outputs": [
        {
          "output_type": "stream",
          "name": "stdout",
          "text": [
            "Accuracy: 1.0\n",
            "Classification Report:\n",
            "               precision    recall  f1-score   support\n",
            "\n",
            "           0       1.00      1.00      1.00        33\n",
            "           1       1.00      1.00      1.00        71\n",
            "\n",
            "    accuracy                           1.00       104\n",
            "   macro avg       1.00      1.00      1.00       104\n",
            "weighted avg       1.00      1.00      1.00       104\n",
            "\n",
            "Confusion Matrix:\n",
            " [[33  0]\n",
            " [ 0 71]]\n"
          ]
        }
      ]
    }
  ]
}